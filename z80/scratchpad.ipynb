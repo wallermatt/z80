{
 "cells": [
  {
   "cell_type": "code",
   "execution_count": 1,
   "metadata": {},
   "outputs": [],
   "source": [
    "SIGN_FLAG = \"S\"\n",
    "ZERO_FLAG = \"Z\"\n",
    "HALF_CARRY_FLAG = \"H\"\n",
    "PARITY_OVERFLOW_FLAG = \"P/V\"\n",
    "ADD_SUBTRACT_FLAG = \"N\"\n",
    "CARRY_FLAG = \"C\"\n",
    "F5 = \"5\"\n",
    "F3 = \"3\"\n",
    "\n",
    "FLAG_POSITIONS = {\n",
    "    SIGN_FLAG: 7,\n",
    "    ZERO_FLAG: 6,\n",
    "    F5: 5,\n",
    "    HALF_CARRY_FLAG: 4,\n",
    "    F3: 3,\n",
    "    PARITY_OVERFLOW_FLAG: 2,\n",
    "    ADD_SUBTRACT_FLAG: 1,\n",
    "    CARRY_FLAG: 0,\n",
    "}\n",
    "\n",
    "def get_flags(f_value):\n",
    "    flags = {}\n",
    "    bit_list = [int(x) for x in '{:08b}'.format(f_value)]\n",
    "    #print(bit_list)\n",
    "    for flag in FLAG_POSITIONS:\n",
    "        flags[flag] = bit_list[7 - FLAG_POSITIONS[flag]]\n",
    "    return flags"
   ]
  },
  {
   "cell_type": "code",
   "execution_count": 4,
   "metadata": {},
   "outputs": [
    {
     "name": "stdout",
     "output_type": "stream",
     "text": [
      "{'S': 1, 'Z': 0, '5': 0, 'H': 1, '3': 1, 'P/V': 0, 'N': 1, 'C': 1}\n",
      "{'S': 0, 'Z': 0, '5': 0, 'H': 1, '3': 1, 'P/V': 0, 'N': 0, 'C': 1}\n",
      "{'S': 0, 'Z': 0, '5': 1, 'H': 1, '3': 0, 'P/V': 0, 'N': 0, 'C': 1}\n"
     ]
    }
   ],
   "source": [
    "print(get_flags(4507 % 256))\n",
    "print(get_flags(4377 % 256))\n",
    "print(get_flags(4401 % 256))"
   ]
  },
  {
   "cell_type": "code",
   "execution_count": 8,
   "metadata": {},
   "outputs": [
    {
     "name": "stdout",
     "output_type": "stream",
     "text": [
      "3\n",
      "A\n"
     ]
    }
   ],
   "source": [
    "x = \"a,2,3\"\n",
    "\n",
    "y = x.split(\",\")\n",
    "\n",
    "print(len(x.split(\",\")))\n",
    "\n",
    "print(y[0].capitalize())"
   ]
  },
  {
   "cell_type": "code",
   "execution_count": 11,
   "metadata": {},
   "outputs": [
    {
     "data": {
      "text/plain": [
       "45033"
      ]
     },
     "execution_count": 11,
     "metadata": {},
     "output_type": "execute_result"
    }
   ],
   "source": [
    "175 * 256 + 233"
   ]
  },
  {
   "cell_type": "code",
   "execution_count": null,
   "metadata": {},
   "outputs": [],
   "source": []
  }
 ],
 "metadata": {
  "interpreter": {
   "hash": "293d5993eb581b60a721729df8fb386378f5929b38ccdf50af199c97b5cde2b0"
  },
  "kernelspec": {
   "display_name": "Python 3.9.7 64-bit ('z80': virtualenv)",
   "language": "python",
   "name": "python3"
  },
  "language_info": {
   "codemirror_mode": {
    "name": "ipython",
    "version": 3
   },
   "file_extension": ".py",
   "mimetype": "text/x-python",
   "name": "python",
   "nbconvert_exporter": "python",
   "pygments_lexer": "ipython3",
   "version": "3.9.7"
  },
  "orig_nbformat": 4
 },
 "nbformat": 4,
 "nbformat_minor": 2
}
