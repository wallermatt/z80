{
 "metadata": {
  "language_info": {
   "codemirror_mode": {
    "name": "ipython",
    "version": 3
   },
   "file_extension": ".py",
   "mimetype": "text/x-python",
   "name": "python",
   "nbconvert_exporter": "python",
   "pygments_lexer": "ipython3",
   "version": "3.6.9"
  },
  "orig_nbformat": 4,
  "kernelspec": {
   "name": "python3",
   "display_name": "Python 3.6.9 64-bit"
  },
  "interpreter": {
   "hash": "31f2aee4e71d21fbe5cf8b01ff0e069b9275f58929596ceb00d14d90e3e16cd6"
  }
 },
 "nbformat": 4,
 "nbformat_minor": 2,
 "cells": [
  {
   "cell_type": "code",
   "execution_count": 2,
   "metadata": {},
   "outputs": [],
   "source": [
    "def convert_contents_to_bit_list(value):\n",
    "    bit_list = [int(x) for x in '{:08b}'.format(value)]\n",
    "    #bit_list.reverse()\n",
    "    return bit_list\n",
    "\n",
    "def convert_bit_list_to_contents(bit_list):\n",
    "    contents = 0\n",
    "    #bit_list.reverse()\n",
    "    for _, bit in enumerate(bit_list):\n",
    "        contents = (contents << 1) | bit\n",
    "    return contents"
   ]
  },
  {
   "cell_type": "code",
   "execution_count": 2,
   "metadata": {},
   "outputs": [
    {
     "output_type": "stream",
     "name": "stdout",
     "text": [
      "[0, 1, 1, 0, 0, 0, 1, 1]\n[0, 0, 0, 0, 0, 0, 0, 1]\n"
     ]
    }
   ],
   "source": [
    "print(convert_contents_to_bit_list(99))\n",
    "print(convert_contents_to_bit_list(1))"
   ]
  },
  {
   "cell_type": "code",
   "execution_count": 4,
   "metadata": {},
   "outputs": [
    {
     "output_type": "stream",
     "name": "stdout",
     "text": [
      "240\n15\n"
     ]
    }
   ],
   "source": [
    "print(convert_bit_list_to_contents( [1, 1, 1, 1, 0, 0, 0, 0] ))\n",
    "print(convert_bit_list_to_contents( [0, 0, 0, 0, 1, 1, 1, 1] ))"
   ]
  },
  {
   "cell_type": "code",
   "execution_count": 4,
   "metadata": {},
   "outputs": [
    {
     "output_type": "stream",
     "name": "stdout",
     "text": [
      "49\n"
     ]
    }
   ],
   "source": [
    "print(convert_bit_list_to_contents([0, 0, 1, 1, 0, 0, 0, 1]))"
   ]
  },
  {
   "cell_type": "code",
   "execution_count": null,
   "metadata": {},
   "outputs": [],
   "source": []
  }
 ]
}